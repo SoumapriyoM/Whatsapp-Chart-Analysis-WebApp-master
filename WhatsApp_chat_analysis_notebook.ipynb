{
 "cells": [
  {
   "cell_type": "code",
   "execution_count": 1,
   "metadata": {},
   "outputs": [],
   "source": [
    "import re\n",
    "import pandas as pd"
   ]
  },
  {
   "cell_type": "code",
   "execution_count": 2,
   "metadata": {},
   "outputs": [],
   "source": [
    "data = open(\"data/WhatsApp Chat with 9 to 10 class 12 physics.txt\", \"r\", encoding=\"utf-8\")"
   ]
  },
  {
   "cell_type": "code",
   "execution_count": 3,
   "metadata": {},
   "outputs": [],
   "source": [
    "data = data.read()"
   ]
  },
  {
   "cell_type": "code",
   "execution_count": 4,
   "metadata": {},
   "outputs": [],
   "source": [
    "pattern = \"\\d{1,2}/\\d{1,2}/\\d{2,4},\\s\\d{1,2}:\\d{2}\\s[AaPp][Mm]\\s-\\s\"\n",
    "pattern1 = \"\\d{1,2}/\\d{1,2}/\\d{2,4},\\s\\d{1,2}:\\d{2}\\s[AaPp][Mm]\""
   ]
  },
  {
   "cell_type": "code",
   "execution_count": 5,
   "metadata": {},
   "outputs": [],
   "source": [
    "messages = re.split(pattern, data)[1:]"
   ]
  },
  {
   "cell_type": "code",
   "execution_count": null,
   "metadata": {},
   "outputs": [],
   "source": [
    "dates = re.findall(pattern1, data)"
   ]
  },
  {
   "cell_type": "code",
   "execution_count": 7,
   "metadata": {},
   "outputs": [
    {
     "data": {
      "text/html": [
       "<div>\n",
       "<style scoped>\n",
       "    .dataframe tbody tr th:only-of-type {\n",
       "        vertical-align: middle;\n",
       "    }\n",
       "\n",
       "    .dataframe tbody tr th {\n",
       "        vertical-align: top;\n",
       "    }\n",
       "\n",
       "    .dataframe thead th {\n",
       "        text-align: right;\n",
       "    }\n",
       "</style>\n",
       "<table border=\"1\" class=\"dataframe\">\n",
       "  <thead>\n",
       "    <tr style=\"text-align: right;\">\n",
       "      <th></th>\n",
       "      <th>date</th>\n",
       "      <th>user_message</th>\n",
       "    </tr>\n",
       "  </thead>\n",
       "  <tbody>\n",
       "    <tr>\n",
       "      <th>0</th>\n",
       "      <td>2021-07-31 09:59:00</td>\n",
       "      <td>Messages and calls are end-to-end encrypted. N...</td>\n",
       "    </tr>\n",
       "    <tr>\n",
       "      <th>1</th>\n",
       "      <td>2020-10-27 16:45:00</td>\n",
       "      <td>Kaif created group \"9 to 10 class 12 physics\"\\n</td>\n",
       "    </tr>\n",
       "    <tr>\n",
       "      <th>2</th>\n",
       "      <td>2021-07-31 09:58:00</td>\n",
       "      <td>Kaif added you\\n</td>\n",
       "    </tr>\n",
       "    <tr>\n",
       "      <th>3</th>\n",
       "      <td>2021-08-06 12:07:00</td>\n",
       "      <td>Tauhid Alam Physics Teacher: &lt;Media omitted&gt;\\n</td>\n",
       "    </tr>\n",
       "    <tr>\n",
       "      <th>4</th>\n",
       "      <td>2021-08-07 16:38:00</td>\n",
       "      <td>Tauhid Alam Physics Teacher: &lt;Media omitted&gt;\\n</td>\n",
       "    </tr>\n",
       "  </tbody>\n",
       "</table>\n",
       "</div>"
      ],
      "text/plain": [
       "                 date                                       user_message\n",
       "0 2021-07-31 09:59:00  Messages and calls are end-to-end encrypted. N...\n",
       "1 2020-10-27 16:45:00    Kaif created group \"9 to 10 class 12 physics\"\\n\n",
       "2 2021-07-31 09:58:00                                   Kaif added you\\n\n",
       "3 2021-08-06 12:07:00     Tauhid Alam Physics Teacher: <Media omitted>\\n\n",
       "4 2021-08-07 16:38:00     Tauhid Alam Physics Teacher: <Media omitted>\\n"
      ]
     },
     "execution_count": 7,
     "metadata": {},
     "output_type": "execute_result"
    }
   ],
   "source": [
    "data = pd.DataFrame({\"user_message\": messages, \"date\": dates})\n",
    "data[\"date\"] = pd.to_datetime(data[\"date\"], format=\"%d/%m/%Y, %I:%M %p\")\n",
    "data = data[[\"date\", \"user_message\"]]\n",
    "data.head()"
   ]
  },
  {
   "cell_type": "code",
   "execution_count": 8,
   "metadata": {},
   "outputs": [
    {
     "data": {
      "text/html": [
       "<div>\n",
       "<style scoped>\n",
       "    .dataframe tbody tr th:only-of-type {\n",
       "        vertical-align: middle;\n",
       "    }\n",
       "\n",
       "    .dataframe tbody tr th {\n",
       "        vertical-align: top;\n",
       "    }\n",
       "\n",
       "    .dataframe thead th {\n",
       "        text-align: right;\n",
       "    }\n",
       "</style>\n",
       "<table border=\"1\" class=\"dataframe\">\n",
       "  <thead>\n",
       "    <tr style=\"text-align: right;\">\n",
       "      <th></th>\n",
       "      <th>date</th>\n",
       "      <th>user</th>\n",
       "      <th>message</th>\n",
       "    </tr>\n",
       "  </thead>\n",
       "  <tbody>\n",
       "    <tr>\n",
       "      <th>0</th>\n",
       "      <td>2021-07-31 09:59:00</td>\n",
       "      <td>group_notification</td>\n",
       "      <td>Messages and calls are end-to-end encrypted. N...</td>\n",
       "    </tr>\n",
       "    <tr>\n",
       "      <th>1</th>\n",
       "      <td>2020-10-27 16:45:00</td>\n",
       "      <td>group_notification</td>\n",
       "      <td>Kaif created group \"9 to 10 class 12 physics\"\\n</td>\n",
       "    </tr>\n",
       "    <tr>\n",
       "      <th>2</th>\n",
       "      <td>2021-07-31 09:58:00</td>\n",
       "      <td>group_notification</td>\n",
       "      <td>Kaif added you\\n</td>\n",
       "    </tr>\n",
       "    <tr>\n",
       "      <th>3</th>\n",
       "      <td>2021-08-06 12:07:00</td>\n",
       "      <td>Tauhid Alam Physics Teacher</td>\n",
       "      <td>&lt;Media omitted&gt;\\n</td>\n",
       "    </tr>\n",
       "    <tr>\n",
       "      <th>4</th>\n",
       "      <td>2021-08-07 16:38:00</td>\n",
       "      <td>Tauhid Alam Physics Teacher</td>\n",
       "      <td>&lt;Media omitted&gt;\\n</td>\n",
       "    </tr>\n",
       "  </tbody>\n",
       "</table>\n",
       "</div>"
      ],
      "text/plain": [
       "                 date                         user  \\\n",
       "0 2021-07-31 09:59:00           group_notification   \n",
       "1 2020-10-27 16:45:00           group_notification   \n",
       "2 2021-07-31 09:58:00           group_notification   \n",
       "3 2021-08-06 12:07:00  Tauhid Alam Physics Teacher   \n",
       "4 2021-08-07 16:38:00  Tauhid Alam Physics Teacher   \n",
       "\n",
       "                                             message  \n",
       "0  Messages and calls are end-to-end encrypted. N...  \n",
       "1    Kaif created group \"9 to 10 class 12 physics\"\\n  \n",
       "2                                   Kaif added you\\n  \n",
       "3                                  <Media omitted>\\n  \n",
       "4                                  <Media omitted>\\n  "
      ]
     },
     "execution_count": 8,
     "metadata": {},
     "output_type": "execute_result"
    }
   ],
   "source": [
    "users = []\n",
    "messages = []\n",
    "for message in data['user_message']:\n",
    "    entry = re.split('([\\w\\W]+?):\\s', message)\n",
    "    if entry[1:]:  # user name\n",
    "        users.append(entry[1])\n",
    "        messages.append(\" \".join(entry[2:]))\n",
    "    else:\n",
    "        users.append('group_notification')\n",
    "        messages.append(entry[0])\n",
    "\n",
    "data['user'] = users\n",
    "data['message'] = messages\n",
    "data.drop(columns=['user_message'], inplace=True)\n",
    "data.head()"
   ]
  },
  {
   "cell_type": "code",
   "execution_count": 9,
   "metadata": {},
   "outputs": [
    {
     "data": {
      "text/html": [
       "<div>\n",
       "<style scoped>\n",
       "    .dataframe tbody tr th:only-of-type {\n",
       "        vertical-align: middle;\n",
       "    }\n",
       "\n",
       "    .dataframe tbody tr th {\n",
       "        vertical-align: top;\n",
       "    }\n",
       "\n",
       "    .dataframe thead th {\n",
       "        text-align: right;\n",
       "    }\n",
       "</style>\n",
       "<table border=\"1\" class=\"dataframe\">\n",
       "  <thead>\n",
       "    <tr style=\"text-align: right;\">\n",
       "      <th></th>\n",
       "      <th>date</th>\n",
       "      <th>year</th>\n",
       "      <th>month</th>\n",
       "      <th>day</th>\n",
       "      <th>day_name</th>\n",
       "      <th>hour</th>\n",
       "      <th>user</th>\n",
       "      <th>message</th>\n",
       "    </tr>\n",
       "  </thead>\n",
       "  <tbody>\n",
       "    <tr>\n",
       "      <th>0</th>\n",
       "      <td>2021-07-31</td>\n",
       "      <td>2021</td>\n",
       "      <td>July</td>\n",
       "      <td>31</td>\n",
       "      <td>Saturday</td>\n",
       "      <td>9</td>\n",
       "      <td>group_notification</td>\n",
       "      <td>Messages and calls are end-to-end encrypted. N...</td>\n",
       "    </tr>\n",
       "    <tr>\n",
       "      <th>1</th>\n",
       "      <td>2020-10-27</td>\n",
       "      <td>2020</td>\n",
       "      <td>October</td>\n",
       "      <td>27</td>\n",
       "      <td>Tuesday</td>\n",
       "      <td>16</td>\n",
       "      <td>group_notification</td>\n",
       "      <td>Kaif created group \"9 to 10 class 12 physics\"\\n</td>\n",
       "    </tr>\n",
       "    <tr>\n",
       "      <th>2</th>\n",
       "      <td>2021-07-31</td>\n",
       "      <td>2021</td>\n",
       "      <td>July</td>\n",
       "      <td>31</td>\n",
       "      <td>Saturday</td>\n",
       "      <td>9</td>\n",
       "      <td>group_notification</td>\n",
       "      <td>Kaif added you\\n</td>\n",
       "    </tr>\n",
       "    <tr>\n",
       "      <th>3</th>\n",
       "      <td>2021-08-06</td>\n",
       "      <td>2021</td>\n",
       "      <td>August</td>\n",
       "      <td>6</td>\n",
       "      <td>Friday</td>\n",
       "      <td>12</td>\n",
       "      <td>Tauhid Alam Physics Teacher</td>\n",
       "      <td>&lt;Media omitted&gt;\\n</td>\n",
       "    </tr>\n",
       "    <tr>\n",
       "      <th>4</th>\n",
       "      <td>2021-08-07</td>\n",
       "      <td>2021</td>\n",
       "      <td>August</td>\n",
       "      <td>7</td>\n",
       "      <td>Saturday</td>\n",
       "      <td>16</td>\n",
       "      <td>Tauhid Alam Physics Teacher</td>\n",
       "      <td>&lt;Media omitted&gt;\\n</td>\n",
       "    </tr>\n",
       "  </tbody>\n",
       "</table>\n",
       "</div>"
      ],
      "text/plain": [
       "         date  year    month  day  day_name  hour  \\\n",
       "0  2021-07-31  2021     July   31  Saturday     9   \n",
       "1  2020-10-27  2020  October   27   Tuesday    16   \n",
       "2  2021-07-31  2021     July   31  Saturday     9   \n",
       "3  2021-08-06  2021   August    6    Friday    12   \n",
       "4  2021-08-07  2021   August    7  Saturday    16   \n",
       "\n",
       "                          user  \\\n",
       "0           group_notification   \n",
       "1           group_notification   \n",
       "2           group_notification   \n",
       "3  Tauhid Alam Physics Teacher   \n",
       "4  Tauhid Alam Physics Teacher   \n",
       "\n",
       "                                             message  \n",
       "0  Messages and calls are end-to-end encrypted. N...  \n",
       "1    Kaif created group \"9 to 10 class 12 physics\"\\n  \n",
       "2                                   Kaif added you\\n  \n",
       "3                                  <Media omitted>\\n  \n",
       "4                                  <Media omitted>\\n  "
      ]
     },
     "execution_count": 9,
     "metadata": {},
     "output_type": "execute_result"
    }
   ],
   "source": [
    "data['only_date'] = data['date'].dt.date\n",
    "data['year'] = data['date'].dt.year\n",
    "data['month'] = data['date'].dt.month_name()\n",
    "data['day'] = data['date'].dt.day\n",
    "data['day_name'] = data['date'].dt.day_name()\n",
    "data['hour'] = data['date'].dt.hour\n",
    "data = data.drop(columns=\"date\")\n",
    "data = data[[\"only_date\", \"year\", \"month\", \"day\", \"day_name\", \"hour\", \"user\", \"message\"]]\n",
    "data = data.rename(columns = {'only_date':'date'})\n",
    "data.head()"
   ]
  },
  {
   "cell_type": "code",
   "execution_count": 10,
   "metadata": {},
   "outputs": [
    {
     "data": {
      "text/plain": [
       "40"
      ]
     },
     "execution_count": 10,
     "metadata": {},
     "output_type": "execute_result"
    }
   ],
   "source": [
    "num_media_messages = data[data['message'] == '<Media omitted>\\n'].shape[0]\n",
    "num_media_messages"
   ]
  },
  {
   "cell_type": "code",
   "execution_count": 11,
   "metadata": {},
   "outputs": [
    {
     "data": {
      "text/plain": [
       "1"
      ]
     },
     "execution_count": 11,
     "metadata": {},
     "output_type": "execute_result"
    }
   ],
   "source": [
    "from urlextract import URLExtract\n",
    "extract = URLExtract()\n",
    "link = []\n",
    "for message in data[\"message\"]:\n",
    "    link.extend(extract.find_urls(message))\n",
    "len(link)"
   ]
  },
  {
   "cell_type": "code",
   "execution_count": 12,
   "metadata": {},
   "outputs": [
    {
     "data": {
      "text/plain": [
       "506"
      ]
     },
     "execution_count": 12,
     "metadata": {},
     "output_type": "execute_result"
    }
   ],
   "source": [
    "words = []\n",
    "for message in data[\"message\"]:\n",
    "    words.extend(message.split())\n",
    "len(words)"
   ]
  }
 ],
 "metadata": {
  "interpreter": {
   "hash": "84696192a1d1faf8fa8756502d8783ffac14dde1df91deb25138929b089b5dee"
  },
  "kernelspec": {
   "display_name": "Python 3.9.6 64-bit ('data-analysis': conda)",
   "language": "python",
   "name": "python3"
  },
  "language_info": {
   "codemirror_mode": {
    "name": "ipython",
    "version": 3
   },
   "file_extension": ".py",
   "mimetype": "text/x-python",
   "name": "python",
   "nbconvert_exporter": "python",
   "pygments_lexer": "ipython3",
   "version": "3.8.12"
  },
  "orig_nbformat": 4
 },
 "nbformat": 4,
 "nbformat_minor": 2
}
